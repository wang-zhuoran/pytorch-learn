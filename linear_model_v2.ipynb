{
 "cells": [
  {
   "cell_type": "code",
   "execution_count": 1,
   "metadata": {},
   "outputs": [],
   "source": [
    "import torch\n",
    "\n",
    "x_data = torch.Tensor([[1.0], [2.0], [3.0]])#3x1矩阵\n",
    "y_data = torch.Tensor([[2.0], [4.0], [6.0]])#3x1矩阵"
   ]
  },
  {
   "cell_type": "markdown",
   "metadata": {},
   "source": [
    "利用nn.Module构建计算图"
   ]
  },
  {
   "cell_type": "code",
   "execution_count": 2,
   "metadata": {},
   "outputs": [],
   "source": [
    "class LinearModel(torch.nn.Module): # 从torch.nn.Module继承类\n",
    "    def __init__(self): #构造函数\n",
    "        super(LinearModel, self).__init__()\n",
    "        #torch.nn.Linear(1,1)构造一个对象，包含了权重和偏置\n",
    "        self.linear = torch.nn.Linear(1,1)\n",
    "        # torch.nn.Linear(输入sample的大小，输出大小，是否有偏置默认为True)\n",
    "    def forward(self, x):#forward()名字不能变,实际是函数的override\n",
    "        y_pred = self.linear(x)\n",
    "        # nn.Linear类已经实现了magic method __call__()\n",
    "        # 使得类的实例可以像函数那样被调用\n",
    "        return y_pred\n",
    "\n",
    "    # 没有反向计算的过程是因为继承自Module的计算图会自动实现\n",
    "\n",
    "model = LinearModel() #callable instance, model(x)"
   ]
  },
  {
   "cell_type": "code",
   "execution_count": 7,
   "metadata": {},
   "outputs": [],
   "source": [
    "# 定义损失函数\n",
    "criterion = torch.nn.MSELoss(size_average=False)\n",
    "# MSELoss也是继承自nn.Module, 也就是说这一步也构建了计算图\n",
    "# size_average是那个1/N\n",
    "\n",
    "# 优化器不会构建计算图\n",
    "# 类的实例化\n",
    "optimizer = torch.optim.SGD(model.parameters(), lr=0.01)\n"
   ]
  },
  {
   "cell_type": "code",
   "execution_count": 8,
   "metadata": {},
   "outputs": [
    {
     "name": "stdout",
     "output_type": "stream",
     "text": [
      "0 tensor(34.3259, grad_fn=<MseLossBackward>)\n",
      "1 tensor(15.2810, grad_fn=<MseLossBackward>)\n",
      "2 tensor(6.8027, grad_fn=<MseLossBackward>)\n",
      "3 tensor(3.0284, grad_fn=<MseLossBackward>)\n",
      "4 tensor(1.3482, grad_fn=<MseLossBackward>)\n",
      "5 tensor(0.6002, grad_fn=<MseLossBackward>)\n",
      "6 tensor(0.2672, grad_fn=<MseLossBackward>)\n",
      "7 tensor(0.1190, grad_fn=<MseLossBackward>)\n",
      "8 tensor(0.0530, grad_fn=<MseLossBackward>)\n",
      "9 tensor(0.0236, grad_fn=<MseLossBackward>)\n",
      "10 tensor(0.0105, grad_fn=<MseLossBackward>)\n",
      "11 tensor(0.0047, grad_fn=<MseLossBackward>)\n",
      "12 tensor(0.0021, grad_fn=<MseLossBackward>)\n",
      "13 tensor(0.0010, grad_fn=<MseLossBackward>)\n",
      "14 tensor(0.0004, grad_fn=<MseLossBackward>)\n",
      "15 tensor(0.0002, grad_fn=<MseLossBackward>)\n",
      "16 tensor(0.0001, grad_fn=<MseLossBackward>)\n",
      "17 tensor(6.6953e-05, grad_fn=<MseLossBackward>)\n",
      "18 tensor(4.6342e-05, grad_fn=<MseLossBackward>)\n",
      "19 tensor(3.6933e-05, grad_fn=<MseLossBackward>)\n",
      "20 tensor(3.2509e-05, grad_fn=<MseLossBackward>)\n",
      "21 tensor(3.0304e-05, grad_fn=<MseLossBackward>)\n",
      "22 tensor(2.9094e-05, grad_fn=<MseLossBackward>)\n",
      "23 tensor(2.8338e-05, grad_fn=<MseLossBackward>)\n",
      "24 tensor(2.7774e-05, grad_fn=<MseLossBackward>)\n",
      "25 tensor(2.7309e-05, grad_fn=<MseLossBackward>)\n",
      "26 tensor(2.6886e-05, grad_fn=<MseLossBackward>)\n",
      "27 tensor(2.6484e-05, grad_fn=<MseLossBackward>)\n",
      "28 tensor(2.6100e-05, grad_fn=<MseLossBackward>)\n",
      "29 tensor(2.5723e-05, grad_fn=<MseLossBackward>)\n",
      "30 tensor(2.5351e-05, grad_fn=<MseLossBackward>)\n",
      "31 tensor(2.4986e-05, grad_fn=<MseLossBackward>)\n",
      "32 tensor(2.4629e-05, grad_fn=<MseLossBackward>)\n",
      "33 tensor(2.4272e-05, grad_fn=<MseLossBackward>)\n",
      "34 tensor(2.3924e-05, grad_fn=<MseLossBackward>)\n",
      "35 tensor(2.3580e-05, grad_fn=<MseLossBackward>)\n",
      "36 tensor(2.3240e-05, grad_fn=<MseLossBackward>)\n",
      "37 tensor(2.2905e-05, grad_fn=<MseLossBackward>)\n",
      "38 tensor(2.2578e-05, grad_fn=<MseLossBackward>)\n",
      "39 tensor(2.2255e-05, grad_fn=<MseLossBackward>)\n",
      "40 tensor(2.1935e-05, grad_fn=<MseLossBackward>)\n",
      "41 tensor(2.1618e-05, grad_fn=<MseLossBackward>)\n",
      "42 tensor(2.1308e-05, grad_fn=<MseLossBackward>)\n",
      "43 tensor(2.1000e-05, grad_fn=<MseLossBackward>)\n",
      "44 tensor(2.0701e-05, grad_fn=<MseLossBackward>)\n",
      "45 tensor(2.0403e-05, grad_fn=<MseLossBackward>)\n",
      "46 tensor(2.0110e-05, grad_fn=<MseLossBackward>)\n",
      "47 tensor(1.9819e-05, grad_fn=<MseLossBackward>)\n",
      "48 tensor(1.9535e-05, grad_fn=<MseLossBackward>)\n",
      "49 tensor(1.9255e-05, grad_fn=<MseLossBackward>)\n",
      "50 tensor(1.8979e-05, grad_fn=<MseLossBackward>)\n",
      "51 tensor(1.8706e-05, grad_fn=<MseLossBackward>)\n",
      "52 tensor(1.8438e-05, grad_fn=<MseLossBackward>)\n",
      "53 tensor(1.8172e-05, grad_fn=<MseLossBackward>)\n",
      "54 tensor(1.7910e-05, grad_fn=<MseLossBackward>)\n",
      "55 tensor(1.7655e-05, grad_fn=<MseLossBackward>)\n",
      "56 tensor(1.7399e-05, grad_fn=<MseLossBackward>)\n",
      "57 tensor(1.7149e-05, grad_fn=<MseLossBackward>)\n",
      "58 tensor(1.6902e-05, grad_fn=<MseLossBackward>)\n",
      "59 tensor(1.6658e-05, grad_fn=<MseLossBackward>)\n",
      "60 tensor(1.6420e-05, grad_fn=<MseLossBackward>)\n",
      "61 tensor(1.6185e-05, grad_fn=<MseLossBackward>)\n",
      "62 tensor(1.5952e-05, grad_fn=<MseLossBackward>)\n",
      "63 tensor(1.5722e-05, grad_fn=<MseLossBackward>)\n",
      "64 tensor(1.5497e-05, grad_fn=<MseLossBackward>)\n",
      "65 tensor(1.5273e-05, grad_fn=<MseLossBackward>)\n",
      "66 tensor(1.5055e-05, grad_fn=<MseLossBackward>)\n",
      "67 tensor(1.4836e-05, grad_fn=<MseLossBackward>)\n",
      "68 tensor(1.4625e-05, grad_fn=<MseLossBackward>)\n",
      "69 tensor(1.4415e-05, grad_fn=<MseLossBackward>)\n",
      "70 tensor(1.4209e-05, grad_fn=<MseLossBackward>)\n",
      "71 tensor(1.4004e-05, grad_fn=<MseLossBackward>)\n",
      "72 tensor(1.3803e-05, grad_fn=<MseLossBackward>)\n",
      "73 tensor(1.3604e-05, grad_fn=<MseLossBackward>)\n",
      "74 tensor(1.3408e-05, grad_fn=<MseLossBackward>)\n",
      "75 tensor(1.3215e-05, grad_fn=<MseLossBackward>)\n",
      "76 tensor(1.3026e-05, grad_fn=<MseLossBackward>)\n",
      "77 tensor(1.2839e-05, grad_fn=<MseLossBackward>)\n",
      "78 tensor(1.2655e-05, grad_fn=<MseLossBackward>)\n",
      "79 tensor(1.2472e-05, grad_fn=<MseLossBackward>)\n",
      "80 tensor(1.2293e-05, grad_fn=<MseLossBackward>)\n",
      "81 tensor(1.2117e-05, grad_fn=<MseLossBackward>)\n",
      "82 tensor(1.1943e-05, grad_fn=<MseLossBackward>)\n",
      "83 tensor(1.1770e-05, grad_fn=<MseLossBackward>)\n",
      "84 tensor(1.1602e-05, grad_fn=<MseLossBackward>)\n",
      "85 tensor(1.1434e-05, grad_fn=<MseLossBackward>)\n",
      "86 tensor(1.1270e-05, grad_fn=<MseLossBackward>)\n",
      "87 tensor(1.1109e-05, grad_fn=<MseLossBackward>)\n",
      "88 tensor(1.0949e-05, grad_fn=<MseLossBackward>)\n",
      "89 tensor(1.0791e-05, grad_fn=<MseLossBackward>)\n",
      "90 tensor(1.0636e-05, grad_fn=<MseLossBackward>)\n",
      "91 tensor(1.0484e-05, grad_fn=<MseLossBackward>)\n",
      "92 tensor(1.0334e-05, grad_fn=<MseLossBackward>)\n",
      "93 tensor(1.0183e-05, grad_fn=<MseLossBackward>)\n",
      "94 tensor(1.0037e-05, grad_fn=<MseLossBackward>)\n",
      "95 tensor(9.8947e-06, grad_fn=<MseLossBackward>)\n",
      "96 tensor(9.7515e-06, grad_fn=<MseLossBackward>)\n",
      "97 tensor(9.6098e-06, grad_fn=<MseLossBackward>)\n",
      "98 tensor(9.4742e-06, grad_fn=<MseLossBackward>)\n",
      "99 tensor(9.3367e-06, grad_fn=<MseLossBackward>)\n"
     ]
    }
   ],
   "source": [
    "for epoch in range(100):\n",
    "    y_pred = model(x_data) # 前馈\n",
    "    loss = criterion(y_pred, y_data)\n",
    "    # 打印的时候会自动调用__str__()\n",
    "    print(epoch, loss) \n",
    "\n",
    "    optimizer.zero_grad() # 所有的梯度归零\n",
    "    loss.backward() # 进行反向传播算梯度\n",
    "    optimizer.step() # 将所有的可训练权重更新"
   ]
  },
  {
   "cell_type": "code",
   "execution_count": 9,
   "metadata": {},
   "outputs": [
    {
     "name": "stdout",
     "output_type": "stream",
     "text": [
      "w =  1.9979658126831055\n",
      "b =  0.004624229855835438\n",
      "y_pred =  tensor([[7.9965]])\n"
     ]
    }
   ],
   "source": [
    "print('w = ', model.linear.weight.item())\n",
    "print('b = ', model.linear.bias.item())\n",
    "\n",
    "x_test = torch.Tensor([[4.0]])\n",
    "y_test = model(x_test)\n",
    "print('y_pred = ', y_test.data)"
   ]
  },
  {
   "cell_type": "code",
   "execution_count": null,
   "metadata": {},
   "outputs": [],
   "source": []
  }
 ],
 "metadata": {
  "interpreter": {
   "hash": "2fc7f418d0bf0d5c0fea7ccdc6a917568694715caeb5a25e2bcc96ffb9e675a3"
  },
  "kernelspec": {
   "display_name": "Python 3.8.5 64-bit ('base': conda)",
   "language": "python",
   "name": "python3"
  },
  "language_info": {
   "codemirror_mode": {
    "name": "ipython",
    "version": 3
   },
   "file_extension": ".py",
   "mimetype": "text/x-python",
   "name": "python",
   "nbconvert_exporter": "python",
   "pygments_lexer": "ipython3",
   "version": "3.8.5"
  },
  "orig_nbformat": 4
 },
 "nbformat": 4,
 "nbformat_minor": 2
}
